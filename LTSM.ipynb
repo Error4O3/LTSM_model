{
 "cells": [
  {
   "cell_type": "markdown",
   "id": "c8acb21f",
   "metadata": {},
   "source": [
    "<h2>Прогнозирование временных рядов с LSTM</h2>\n"
   ]
  },
  {
   "cell_type": "markdown",
   "id": "1d343a58",
   "metadata": {},
   "source": [
    "Продвинутые модели глубокого обучения, такие как Long Short Term Memory Networks (LSTM), способны улавливать закономерности в данных временных рядов и поэтому могут быть использованы для прогнозирования будущего тренда данных."
   ]
  },
  {
   "cell_type": "code",
   "execution_count": 18,
   "id": "997615e4",
   "metadata": {},
   "outputs": [
    {
     "name": "stdout",
     "output_type": "stream",
     "text": [
      "Collecting torch\n",
      "  Using cached https://files.pythonhosted.org/packages/a1/1f/a372f2e9f0a54fc479fcee3ac072f8cd5091054e9d7293dd4372338e5277/torch-1.9.0-cp36-cp36m-manylinux1_x86_64.whl\n",
      "Collecting dataclasses; python_version < \"3.7\" (from torch)\n",
      "  Using cached https://files.pythonhosted.org/packages/fe/ca/75fac5856ab5cfa51bbbcefa250182e50441074fdc3f803f6e76451fab43/dataclasses-0.8-py3-none-any.whl\n",
      "Collecting typing-extensions (from torch)\n",
      "  Using cached https://files.pythonhosted.org/packages/2e/35/6c4fff5ab443b57116cb1aad46421fb719bed2825664e8fe77d66d99bcbc/typing_extensions-3.10.0.0-py3-none-any.whl\n",
      "Installing collected packages: dataclasses, typing-extensions, torch\n",
      "Successfully installed dataclasses-0.8 torch-1.9.0 typing-extensions-3.10.0.0\n",
      "Collecting sklearn\n",
      "  Downloading https://files.pythonhosted.org/packages/1e/7a/dbb3be0ce9bd5c8b7e3d87328e79063f8b263b2b1bfa4774cb1147bfcd3f/sklearn-0.0.tar.gz\n",
      "Collecting scikit-learn (from sklearn)\n",
      "  Downloading https://files.pythonhosted.org/packages/f5/ef/bcd79e8d59250d6e8478eb1290dc6e05be42b3be8a86e3954146adbc171a/scikit_learn-0.24.2-cp36-cp36m-manylinux1_x86_64.whl (20.0MB)\n",
      "\u001b[K    100% |████████████████████████████████| 20.0MB 95kB/s  eta 0:00:01\n",
      "\u001b[?25hCollecting numpy>=1.13.3 (from scikit-learn->sklearn)\n",
      "  Using cached https://files.pythonhosted.org/packages/45/b2/6c7545bb7a38754d63048c7696804a0d947328125d81bf12beaa692c3ae3/numpy-1.19.5-cp36-cp36m-manylinux1_x86_64.whl\n",
      "Collecting threadpoolctl>=2.0.0 (from scikit-learn->sklearn)\n",
      "  Downloading https://files.pythonhosted.org/packages/c6/e8/c216b9b60cbba4642d3ca1bae7a53daa0c24426f662e0e3ce3dc7f6caeaa/threadpoolctl-2.2.0-py3-none-any.whl\n",
      "Collecting scipy>=0.19.1 (from scikit-learn->sklearn)\n",
      "  Using cached https://files.pythonhosted.org/packages/c8/89/63171228d5ced148f5ced50305c89e8576ffc695a90b58fe5bb602b910c2/scipy-1.5.4-cp36-cp36m-manylinux1_x86_64.whl\n",
      "Collecting joblib>=0.11 (from scikit-learn->sklearn)\n",
      "  Downloading https://files.pythonhosted.org/packages/55/85/70c6602b078bd9e6f3da4f467047e906525c355a4dacd4f71b97a35d9897/joblib-1.0.1-py3-none-any.whl (303kB)\n",
      "\u001b[K    100% |████████████████████████████████| 307kB 2.2MB/s eta 0:00:01\n",
      "\u001b[?25hBuilding wheels for collected packages: sklearn\n",
      "  Running setup.py bdist_wheel for sklearn ... \u001b[?25ldone\n",
      "\u001b[?25h  Stored in directory: /home/davydova/.cache/pip/wheels/76/03/bb/589d421d27431bcd2c6da284d5f2286c8e3b2ea3cf1594c074\n",
      "Successfully built sklearn\n",
      "Installing collected packages: numpy, threadpoolctl, scipy, joblib, scikit-learn, sklearn\n",
      "Successfully installed joblib-1.0.1 numpy-1.19.5 scikit-learn-0.24.2 scipy-1.5.4 sklearn-0.0 threadpoolctl-2.2.0\n"
     ]
    }
   ],
   "source": [
    "!pip3 install torch\n",
    "!pip3 install sklearn"
   ]
  },
  {
   "cell_type": "code",
   "execution_count": 1,
   "id": "e14891f3",
   "metadata": {},
   "outputs": [],
   "source": [
    "from sklearn.preprocessing import MinMaxScaler\n",
    "\n",
    "import torch\n",
    "import torch.nn as nn\n",
    "\n",
    "import seaborn as sns\n",
    "import numpy as np\n",
    "import pandas as pd\n",
    "import matplotlib.pyplot as plt"
   ]
  },
  {
   "cell_type": "code",
   "execution_count": 3,
   "id": "2ac7722f",
   "metadata": {},
   "outputs": [
    {
     "data": {
      "text/plain": [
       "['anagrams',\n",
       " 'anscombe',\n",
       " 'attention',\n",
       " 'brain_networks',\n",
       " 'car_crashes',\n",
       " 'diamonds',\n",
       " 'dots',\n",
       " 'exercise',\n",
       " 'flights',\n",
       " 'fmri',\n",
       " 'gammas',\n",
       " 'geyser',\n",
       " 'iris',\n",
       " 'mpg',\n",
       " 'penguins',\n",
       " 'planets',\n",
       " 'tips',\n",
       " 'titanic']"
      ]
     },
     "execution_count": 3,
     "metadata": {},
     "output_type": "execute_result"
    }
   ],
   "source": [
    "# встроенные датасеты библиотеки seaborn\n",
    "sns.get_dataset_names()"
   ]
  },
  {
   "cell_type": "code",
   "execution_count": 4,
   "id": "35638177",
   "metadata": {},
   "outputs": [
    {
     "data": {
      "text/html": [
       "<div>\n",
       "<style scoped>\n",
       "    .dataframe tbody tr th:only-of-type {\n",
       "        vertical-align: middle;\n",
       "    }\n",
       "\n",
       "    .dataframe tbody tr th {\n",
       "        vertical-align: top;\n",
       "    }\n",
       "\n",
       "    .dataframe thead th {\n",
       "        text-align: right;\n",
       "    }\n",
       "</style>\n",
       "<table border=\"1\" class=\"dataframe\">\n",
       "  <thead>\n",
       "    <tr style=\"text-align: right;\">\n",
       "      <th></th>\n",
       "      <th>year</th>\n",
       "      <th>month</th>\n",
       "      <th>passengers</th>\n",
       "    </tr>\n",
       "  </thead>\n",
       "  <tbody>\n",
       "    <tr>\n",
       "      <th>0</th>\n",
       "      <td>1949</td>\n",
       "      <td>Jan</td>\n",
       "      <td>112</td>\n",
       "    </tr>\n",
       "    <tr>\n",
       "      <th>1</th>\n",
       "      <td>1949</td>\n",
       "      <td>Feb</td>\n",
       "      <td>118</td>\n",
       "    </tr>\n",
       "    <tr>\n",
       "      <th>2</th>\n",
       "      <td>1949</td>\n",
       "      <td>Mar</td>\n",
       "      <td>132</td>\n",
       "    </tr>\n",
       "    <tr>\n",
       "      <th>3</th>\n",
       "      <td>1949</td>\n",
       "      <td>Apr</td>\n",
       "      <td>129</td>\n",
       "    </tr>\n",
       "    <tr>\n",
       "      <th>4</th>\n",
       "      <td>1949</td>\n",
       "      <td>May</td>\n",
       "      <td>121</td>\n",
       "    </tr>\n",
       "  </tbody>\n",
       "</table>\n",
       "</div>"
      ],
      "text/plain": [
       "   year month  passengers\n",
       "0  1949   Jan         112\n",
       "1  1949   Feb         118\n",
       "2  1949   Mar         132\n",
       "3  1949   Apr         129\n",
       "4  1949   May         121"
      ]
     },
     "execution_count": 4,
     "metadata": {},
     "output_type": "execute_result"
    }
   ],
   "source": [
    "# для анализа возьмем встроенный датасет flights\n",
    "flight_data = sns.load_dataset(\"flights\")\n",
    "flight_data.head()"
   ]
  },
  {
   "cell_type": "code",
   "execution_count": 5,
   "id": "03db1df7",
   "metadata": {},
   "outputs": [
    {
     "name": "stdout",
     "output_type": "stream",
     "text": [
      "<class 'pandas.core.frame.DataFrame'>\n",
      "RangeIndex: 144 entries, 0 to 143\n",
      "Data columns (total 3 columns):\n",
      " #   Column      Non-Null Count  Dtype   \n",
      "---  ------      --------------  -----   \n",
      " 0   year        144 non-null    int64   \n",
      " 1   month       144 non-null    category\n",
      " 2   passengers  144 non-null    int64   \n",
      "dtypes: category(1), int64(2)\n",
      "memory usage: 2.9 KB\n"
     ]
    }
   ],
   "source": [
    "flight_data.info()"
   ]
  },
  {
   "cell_type": "markdown",
   "id": "e62b6d25",
   "metadata": {},
   "source": [
    "Построим график частоты поездок пассажиров в месяц."
   ]
  },
  {
   "cell_type": "code",
   "execution_count": 5,
   "id": "9373fd47",
   "metadata": {},
   "outputs": [
    {
     "data": {
      "text/plain": [
       "[<matplotlib.lines.Line2D at 0x7f06791694a8>]"
      ]
     },
     "execution_count": 5,
     "metadata": {},
     "output_type": "execute_result"
    },
    {
     "data": {
      "image/png": "[encoded data removed]",
      "text/plain": [
       "<Figure size 1080x360 with 1 Axes>"
      ]
     },
     "metadata": {
      "needs_background": "light"
     },
     "output_type": "display_data"
    }
   ],
   "source": [
    "fig_size = plt.rcParams[\"figure.figsize\"]\n",
    "fig_size[0] = 15\n",
    "fig_size[1] = 5\n",
    "plt.rcParams[\"figure.figsize\"] = fig_size\n",
    "plt.title('Month vs Passenger')\n",
    "plt.ylabel('Total Passengers')\n",
    "plt.xlabel('Months')\n",
    "plt.grid(True)\n",
    "plt.autoscale(axis='x',tight=True)\n",
    "plt.plot(flight_data['passengers'])"
   ]
  },
  {
   "cell_type": "markdown",
   "id": "f3978af5",
   "metadata": {},
   "source": [
    "<b>Выводы:</b>\n",
    "\n",
    "Со временем среднее количество пассажиров, путешествующих воздушным транспортом, увеличилось. Количество пассажиров, путешествующих в течение года, колеблется, что имеет смысл, потому что во время летних или зимних каникул количество путешествующих пассажиров увеличивается по сравнению с другими частями года."
   ]
  },
  {
   "cell_type": "markdown",
   "id": "67eb1455",
   "metadata": {},
   "source": [
    "<h2>Подготовка данных</h2>"
   ]
  },
  {
   "cell_type": "code",
   "execution_count": 12,
   "id": "1fb2833b",
   "metadata": {},
   "outputs": [],
   "source": [
    "data = flight_data['passengers'].values"
   ]
  },
  {
   "cell_type": "markdown",
   "id": "f043233b",
   "metadata": {},
   "source": [
    "Разделим наш набор данных на обучающие и тестовые наборы. Алгоритм LSTM будет обучаться на обучающем наборе. Затем модель будет использоваться для составления прогнозов на тестовом наборе. Прогнозы будут сравниваться с фактическими значениями в тестовом наборе для оценки производительности обученной модели.\n",
    "\n",
    "Первые 132 записи будут использоваться для обучения модели, а последние 12 записей будут использоваться в качестве тестового набора."
   ]
  },
  {
   "cell_type": "code",
   "execution_count": 13,
   "id": "0c2aefab",
   "metadata": {},
   "outputs": [],
   "source": [
    "test_data_size = 12\n",
    "\n",
    "train_data = data[:-test_data_size]\n",
    "test_data = data[-test_data_size:]"
   ]
  },
  {
   "cell_type": "code",
   "execution_count": 12,
   "id": "38366dea",
   "metadata": {},
   "outputs": [
    {
     "name": "stdout",
     "output_type": "stream",
     "text": [
      "132    417\n",
      "133    391\n",
      "134    419\n",
      "135    461\n",
      "136    472\n",
      "137    535\n",
      "138    622\n",
      "139    606\n",
      "140    508\n",
      "141    461\n",
      "142    390\n",
      "143    432\n",
      "Name: passengers, dtype: int64\n"
     ]
    }
   ],
   "source": [
    "print(test_data)"
   ]
  },
  {
   "cell_type": "markdown",
   "id": "7e3de83b",
   "metadata": {},
   "source": [
    "Выполним минимальное/максимальное масштабирование набора данных, которое нормализует данные в определенном диапазоне минимальных и максимальных значений. Мы будем использовать класс MinMaxScaler из модуля sklearn.preprocessing для масштабирования наших данных.<br>\n",
    "\n",
    "Нормализация данных применяется только к обучающим данным, а не к тестовым. "
   ]
  },
  {
   "cell_type": "code",
   "execution_count": 14,
   "id": "78de59ad",
   "metadata": {},
   "outputs": [],
   "source": [
    "scaler = MinMaxScaler(feature_range=(-1, 1))\n",
    "train_data_normalized = scaler.fit_transform(train_data.reshape(-1, 1))"
   ]
  },
  {
   "cell_type": "code",
   "execution_count": 15,
   "id": "e8135492",
   "metadata": {},
   "outputs": [
    {
     "name": "stdout",
     "output_type": "stream",
     "text": [
      "[[-0.96483516]\n",
      " [-0.93846154]\n",
      " [-0.87692308]\n",
      " [-0.89010989]\n",
      " [-0.92527473]]\n",
      "[[1.        ]\n",
      " [0.57802198]\n",
      " [0.33186813]\n",
      " [0.13406593]\n",
      " [0.32307692]]\n"
     ]
    }
   ],
   "source": [
    "print(train_data_normalized[:5])\n",
    "print(train_data_normalized[-5:])"
   ]
  },
  {
   "cell_type": "markdown",
   "id": "f7339dab",
   "metadata": {},
   "source": [
    "Следующим шагом является преобразование нашего набора данных в тензоры, поскольку модели PyTorch обучаются с использованием тензоров. Чтобы преобразовать набор данных в тензоры, мы передадим наш набор данных конструктору объекта FloatTensor."
   ]
  },
  {
   "cell_type": "code",
   "execution_count": 17,
   "id": "0b23d9df",
   "metadata": {},
   "outputs": [],
   "source": [
    "train_data_normalized = torch.FloatTensor(train_data_normalized).view(-1)"
   ]
  },
  {
   "cell_type": "markdown",
   "id": "6b4dc225",
   "metadata": {},
   "source": [
    "Последний этап предварительной обработки - преобразование обучающих данных в последовательности и соответствующие метки.\n",
    "\n",
    "Можно использовать любую длину последовательности, и это зависит от знания предметной области. В нашем наборе данных удобно использовать последовательность длиной 12, так как у нас есть ежемесячные данные, а в году 12 месяцев. Если бы у нас были ежедневные данные, лучшая длина последовательности была бы 365, то есть количество дней в году. Поэтому мы установим длину входной последовательности для обучения равной 12."
   ]
  },
  {
   "cell_type": "code",
   "execution_count": 18,
   "id": "3bae8091",
   "metadata": {},
   "outputs": [],
   "source": [
    "train_window = 12"
   ]
  },
  {
   "cell_type": "markdown",
   "id": "859f339d",
   "metadata": {},
   "source": [
    "Определим функцию с именем `create_input_sequences` . Функция примет необработанные входные данные и вернет список кортежей. В каждом кортеже первый элемент будет содержать список из 12 пунктов, соответствующих количеству пассажиров, путешествующих за 12 месяцев, второй элемент кортежа будет содержать один пункт, т. е. количество пассажиров за 12+1-й месяц."
   ]
  },
  {
   "cell_type": "code",
   "execution_count": 19,
   "id": "f2d98ddb",
   "metadata": {},
   "outputs": [],
   "source": [
    "def create_inout_sequences(input_data, tw):\n",
    "    inout_seq = []\n",
    "    L = len(input_data)\n",
    "    for i in range(L-tw):\n",
    "        train_seq = input_data[i:i+tw]\n",
    "        train_label = input_data[i+tw:i+tw+1]\n",
    "        inout_seq.append((train_seq ,train_label))\n",
    "    return inout_seq"
   ]
  },
  {
   "cell_type": "markdown",
   "id": "5d9bb5ab",
   "metadata": {},
   "source": [
    "Создадим последовательности и соответствующие метки для обучения"
   ]
  },
  {
   "cell_type": "code",
   "execution_count": 20,
   "id": "3761a29b",
   "metadata": {},
   "outputs": [],
   "source": [
    "train_inout_seq = create_inout_sequences(train_data_normalized, train_window)"
   ]
  },
  {
   "cell_type": "code",
   "execution_count": 22,
   "id": "32c1b54a",
   "metadata": {},
   "outputs": [
    {
     "data": {
      "text/plain": [
       "[(tensor([-0.9648, -0.9385, -0.8769, -0.8901, -0.9253, -0.8637, -0.8066, -0.8066,\n",
       "          -0.8593, -0.9341, -1.0000, -0.9385]),\n",
       "  tensor([-0.9516])),\n",
       " (tensor([-0.9385, -0.8769, -0.8901, -0.9253, -0.8637, -0.8066, -0.8066, -0.8593,\n",
       "          -0.9341, -1.0000, -0.9385, -0.9516]),\n",
       "  tensor([-0.9033])),\n",
       " (tensor([-0.8769, -0.8901, -0.9253, -0.8637, -0.8066, -0.8066, -0.8593, -0.9341,\n",
       "          -1.0000, -0.9385, -0.9516, -0.9033]),\n",
       "  tensor([-0.8374])),\n",
       " (tensor([-0.8901, -0.9253, -0.8637, -0.8066, -0.8066, -0.8593, -0.9341, -1.0000,\n",
       "          -0.9385, -0.9516, -0.9033, -0.8374]),\n",
       "  tensor([-0.8637])),\n",
       " (tensor([-0.9253, -0.8637, -0.8066, -0.8066, -0.8593, -0.9341, -1.0000, -0.9385,\n",
       "          -0.9516, -0.9033, -0.8374, -0.8637]),\n",
       "  tensor([-0.9077]))]"
      ]
     },
     "execution_count": 22,
     "metadata": {},
     "output_type": "execute_result"
    }
   ],
   "source": [
    "train_inout_seq[:5]"
   ]
  },
  {
   "cell_type": "markdown",
   "id": "5b0c80bf",
   "metadata": {},
   "source": [
    "Каждый элемент является кортежем, где первый элемент состоит из 12 элементов последовательности, а второй элемент кортежа содержит соответствующую метку."
   ]
  },
  {
   "cell_type": "markdown",
   "id": "c2969ef9",
   "metadata": {},
   "source": [
    "<h2>Создание модели LSTM</h2>"
   ]
  },
  {
   "cell_type": "markdown",
   "id": "09f9007a",
   "metadata": {},
   "source": [
    "Определим класс LSTM , который наследуется от класса nn.Module библиотеки PyTorch."
   ]
  },
  {
   "cell_type": "code",
   "execution_count": 25,
   "id": "b258e2cc",
   "metadata": {},
   "outputs": [],
   "source": [
    "class LSTM(nn.Module):\n",
    "    def __init__(self, input_size=1, hidden_layer_size=100, output_size=1):\n",
    "        super().__init__()\n",
    "        self.hidden_layer_size = hidden_layer_size\n",
    "\n",
    "        self.lstm = nn.LSTM(input_size, hidden_layer_size)\n",
    "\n",
    "        self.linear = nn.Linear(hidden_layer_size, output_size)\n",
    "\n",
    "        self.hidden_cell = (torch.zeros(1,1,self.hidden_layer_size),\n",
    "                            torch.zeros(1,1,self.hidden_layer_size))\n",
    "\n",
    "    def forward(self, input_seq):\n",
    "        lstm_out, self.hidden_cell = self.lstm(input_seq.view(len(input_seq) ,1, -1), self.hidden_cell)\n",
    "        predictions = self.linear(lstm_out.view(len(input_seq), -1))\n",
    "        return predictions[-1]"
   ]
  },
  {
   "cell_type": "markdown",
   "id": "251aa680",
   "metadata": {},
   "source": [
    "Конструктор класса `LSTM` принимает три параметра:\n",
    "\n",
    "`input_size` : Соответствует количеству объектов во входных данных. Хотя длина нашей последовательности равна 12, для каждого месяца у нас есть только 1 значение, то есть общее количество пассажиров, поэтому входной размер будет равен 1.\n",
    "`hidden_layer_size` : Определяет количество скрытых слоев вместе с количеством нейронов в каждом слое. У нас будет один слой из 100 нейронов.\n",
    "`output_size` : Количество элементов в выводе, так как мы хотим предсказать количество пассажиров на 1 месяц в будущем, размер вывода будет равен 1.\n",
    "Далее в конструкторе мы создаем переменные `hidden_layer_size` , `lstm` , `linear` и `hidden_cell` . Алгоритм LSTM принимает три входа: предыдущее скрытое состояние, предыдущее состояние ячейки и текущий вход. Переменная hidden_cell содержит предыдущее скрытое состояние и состояние ячейки. Переменные `lstm` и `linear` `layer` используются для создания слоев LSTM и linear.\n",
    "\n",
    "Внутри метода `forward` в качестве параметра передается `input_seq` , который сначала передается через слой `lstm` . Выход слоя `lstm` – это скрытое состояние и состояние ячейки на текущем временном шаге, а также выход. Выходные данные из слоя `lstm` передаются в слой `linear` . Прогнозируемое количество пассажиров сохраняется в последнем элементе списка `predictions` , который возвращается вызывающей функции."
   ]
  },
  {
   "cell_type": "markdown",
   "id": "48cd43ea",
   "metadata": {},
   "source": [
    "Создадим объект класса `LSTM ()`, определим функцию потерь и оптимизатора. Поскольку мы решаем задачу классификации, мы будем использовать кросс-энтропийные потери . Для функции оптимизатора мы будем использовать `adam optimizer`."
   ]
  },
  {
   "cell_type": "code",
   "execution_count": 26,
   "id": "7e63acd5",
   "metadata": {},
   "outputs": [],
   "source": [
    "model = LSTM()\n",
    "loss_function = nn.MSELoss()\n",
    "optimizer = torch.optim.Adam(model.parameters(), lr=0.001)"
   ]
  },
  {
   "cell_type": "code",
   "execution_count": 27,
   "id": "9c9a3aae",
   "metadata": {},
   "outputs": [
    {
     "name": "stdout",
     "output_type": "stream",
     "text": [
      "LSTM(\n",
      "  (lstm): LSTM(1, 100)\n",
      "  (linear): Linear(in_features=100, out_features=1, bias=True)\n",
      ")\n"
     ]
    }
   ],
   "source": [
    "print(model)"
   ]
  },
  {
   "cell_type": "markdown",
   "id": "48f90778",
   "metadata": {},
   "source": [
    "<h2>Обучение модели</h2>"
   ]
  },
  {
   "cell_type": "markdown",
   "id": "83096c11",
   "metadata": {},
   "source": [
    "Будем тренировать нашу модель в течение 150 эпох.Потери будут печататься через каждые 25 эпох."
   ]
  },
  {
   "cell_type": "code",
   "execution_count": 28,
   "id": "33dea45e",
   "metadata": {},
   "outputs": [
    {
     "name": "stdout",
     "output_type": "stream",
     "text": [
      "epoch:   1 loss: 0.00941816\n",
      "epoch:  26 loss: 0.01106068\n",
      "epoch:  51 loss: 0.00001044\n",
      "epoch:  76 loss: 0.00147645\n",
      "epoch: 101 loss: 0.00004347\n",
      "epoch: 126 loss: 0.00030516\n",
      "epoch: 149 loss: 0.0004035859\n"
     ]
    }
   ],
   "source": [
    "epochs = 150\n",
    "\n",
    "for i in range(epochs):\n",
    "    for seq, labels in train_inout_seq:\n",
    "        optimizer.zero_grad()\n",
    "        model.hidden_cell = (torch.zeros(1, 1, model.hidden_layer_size),\n",
    "                        torch.zeros(1, 1, model.hidden_layer_size))\n",
    "\n",
    "        y_pred = model(seq)\n",
    "\n",
    "        single_loss = loss_function(y_pred, labels)\n",
    "        single_loss.backward()\n",
    "        optimizer.step()\n",
    "\n",
    "    if i%25 == 1:\n",
    "        print(f'epoch: {i:3} loss: {single_loss.item():10.8f}')\n",
    "\n",
    "print(f'epoch: {i:3} loss: {single_loss.item():10.10f}')\n"
   ]
  },
  {
   "cell_type": "markdown",
   "id": "24d96219",
   "metadata": {},
   "source": [
    "<h2>Прогнозы</h2>"
   ]
  },
  {
   "cell_type": "markdown",
   "id": "ca34ec6d",
   "metadata": {},
   "source": [
    "Когда модель обучена, можно начать делать прогнозы. Поскольку тестовый набор содержит данные о пассажирах за последние 12 месяцев, а модель обучена делать прогнозы, используя длину последовательности 12. Сначала мы отфильтруем последние 12 значений из обучающего набора"
   ]
  },
  {
   "cell_type": "code",
   "execution_count": 29,
   "id": "0fd23e66",
   "metadata": {},
   "outputs": [
    {
     "name": "stdout",
     "output_type": "stream",
     "text": [
      "[0.12527473270893097, 0.04615384712815285, 0.3274725377559662, 0.2835164964199066, 0.3890109956264496, 0.6175824403762817, 0.9516483545303345, 1.0, 0.5780220031738281, 0.33186814188957214, 0.13406594097614288, 0.32307693362236023]\n"
     ]
    }
   ],
   "source": [
    "fut_pred = 12\n",
    "\n",
    "test_inputs = train_data_normalized[-train_window:].tolist()\n",
    "print(test_inputs)"
   ]
  },
  {
   "cell_type": "markdown",
   "id": "07644044",
   "metadata": {},
   "source": [
    "Можно сравнить приведенные выше значения с последними 12 значениями списка данных train_data_normalized .\n",
    "\n",
    "Первоначально элемент test_inputs будет содержать 12 элементов. Внутри цикла for эти 12 элементов будут использоваться для предсказания первого элемента из тестового набора, то есть элемента под номером 133. Затем значение прогноза будет добавлено в список test_inputs . Во время второй итерации снова будут использованы последние 12 элементов в качестве входных данных, и будет сделано новое предсказание, которое затем снова будет добавлено в список test_inputs . Цикл for будет выполняться 12 раз, так как в тестовом наборе имеется 12 элементов. В конце цикла список test_inputs будет содержать 24 элемента. Последние 12 пунктов будут прогнозируемыми значениями для тестового набора."
   ]
  },
  {
   "cell_type": "code",
   "execution_count": 30,
   "id": "49665ab6",
   "metadata": {},
   "outputs": [],
   "source": [
    "model.eval()\n",
    "\n",
    "for i in range(fut_pred):\n",
    "    seq = torch.FloatTensor(test_inputs[-train_window:])\n",
    "    with torch.no_grad():\n",
    "        model.hidden = (torch.zeros(1, 1, model.hidden_layer_size),\n",
    "                        torch.zeros(1, 1, model.hidden_layer_size))\n",
    "        test_inputs.append(model(seq).item())"
   ]
  },
  {
   "cell_type": "markdown",
   "id": "2205fd1b",
   "metadata": {},
   "source": [
    "test_inputs содержит 24 элемента. Последние 12 прогнозируемых элементов:"
   ]
  },
  {
   "cell_type": "code",
   "execution_count": 31,
   "id": "f1e11f42",
   "metadata": {},
   "outputs": [
    {
     "data": {
      "text/plain": [
       "[0.4865908920764923,\n",
       " 0.8709333539009094,\n",
       " 1.2424625158309937,\n",
       " 1.4307588338851929,\n",
       " 1.5588828325271606,\n",
       " 1.6361677646636963,\n",
       " 1.68451988697052,\n",
       " 1.7165820598602295,\n",
       " 1.7384032011032104,\n",
       " 1.7534167766571045,\n",
       " 1.7641631364822388,\n",
       " 1.77222740650177]"
      ]
     },
     "execution_count": 31,
     "metadata": {},
     "output_type": "execute_result"
    }
   ],
   "source": [
    "test_inputs[fut_pred:]"
   ]
  },
  {
   "cell_type": "markdown",
   "id": "c11f26b0",
   "metadata": {},
   "source": [
    "Можно получить различные значения в зависимости от весов, используемых для обучения LSTM.\n",
    "\n",
    "Поскольку мы нормализовали набор данных для обучения, прогнозируемые значения также нормализуются. Нам нужно преобразовать нормализованные прогнозные значения в фактические прогнозные значения. Мы можем сделать это, передав нормализованные значения в метод inverse_transform объекта min/max scaler, который мы использовали для нормализации нашего набора данных."
   ]
  },
  {
   "cell_type": "code",
   "execution_count": 32,
   "id": "63d7da6b",
   "metadata": {},
   "outputs": [
    {
     "name": "stdout",
     "output_type": "stream",
     "text": [
      "[[442.19942795]\n",
      " [529.63733801]\n",
      " [614.16022235]\n",
      " [656.99763471]\n",
      " [686.1458444 ]\n",
      " [703.72816646]\n",
      " [714.72827429]\n",
      " [722.02241862]\n",
      " [726.98672825]\n",
      " [730.40231669]\n",
      " [732.84711355]\n",
      " [734.68173498]]\n"
     ]
    }
   ],
   "source": [
    "actual_predictions = scaler.inverse_transform(np.array(test_inputs[train_window:] ).reshape(-1, 1))\n",
    "print(actual_predictions)"
   ]
  },
  {
   "cell_type": "markdown",
   "id": "409c7855",
   "metadata": {},
   "source": [
    "Построим график предсказанных значений относительно фактических. "
   ]
  },
  {
   "cell_type": "code",
   "execution_count": 36,
   "id": "49f20c5a",
   "metadata": {},
   "outputs": [
    {
     "name": "stdout",
     "output_type": "stream",
     "text": [
      "[132 133 134 135 136 137 138 139 140 141 142 143]\n"
     ]
    }
   ],
   "source": [
    "x = np.arange(132, 144, 1)\n",
    "print(x)"
   ]
  },
  {
   "cell_type": "markdown",
   "id": "a10d57a2",
   "metadata": {},
   "source": [
    "В приведенном выше скрипте мы создаем список, содержащий числовые значения за последние 12 месяцев. Первый месяц имеет значение индекса 0, поэтому последний месяц будет иметь индекс 143."
   ]
  },
  {
   "cell_type": "code",
   "execution_count": 37,
   "id": "d9da2a59",
   "metadata": {},
   "outputs": [
    {
     "data": {
      "image/png": "[encoded data removed]",
      "text/plain": [
       "<Figure size 1080x360 with 1 Axes>"
      ]
     },
     "metadata": {
      "needs_background": "light"
     },
     "output_type": "display_data"
    }
   ],
   "source": [
    "plt.title('Month vs Passenger')\n",
    "plt.ylabel('Total Passengers')\n",
    "plt.grid(True)\n",
    "plt.autoscale(axis='x', tight=True)\n",
    "plt.plot(flight_data['passengers'])\n",
    "plt.plot(x,actual_predictions)\n",
    "plt.show()"
   ]
  },
  {
   "cell_type": "markdown",
   "id": "920cc4fa",
   "metadata": {},
   "source": [
    "Предсказания, сделанные нашим LSTM, изображены оранжевой линией. Можно видеть, что наш алгоритм не слишком точен, но все же он смог зафиксировать восходящий тренд для общего числа пассажиров, путешествующих за последние 12 месяцев, а также случайные колебания. Можно попробовать с большим количеством эпох и с большим количеством нейронов."
   ]
  },
  {
   "cell_type": "markdown",
   "id": "05486598",
   "metadata": {},
   "source": [
    "Чтобы лучше видеть результат, мы можем построить график фактического и прогнозируемого количества пассажиров за последние 12 месяцев следующим образом:"
   ]
  },
  {
   "cell_type": "code",
   "execution_count": 38,
   "id": "b802d37d",
   "metadata": {},
   "outputs": [
    {
     "data": {
      "image/png": "[encoded data removed]",
      "text/plain": [
       "<Figure size 1080x360 with 1 Axes>"
      ]
     },
     "metadata": {
      "needs_background": "light"
     },
     "output_type": "display_data"
    }
   ],
   "source": [
    "plt.title('Month vs Passenger')\n",
    "plt.ylabel('Total Passengers')\n",
    "plt.grid(True)\n",
    "plt.autoscale(axis='x', tight=True)\n",
    "\n",
    "plt.plot(flight_data['passengers'][-train_window:])\n",
    "plt.plot(x,actual_predictions)\n",
    "plt.show()\n"
   ]
  },
  {
   "cell_type": "markdown",
   "id": "4644155a",
   "metadata": {},
   "source": [
    "Опять же, прогнозы не очень точны, но алгоритм смог уловить тенденцию, что количество пассажиров в будущих месяцах должно быть выше, чем в предыдущие месяцы."
   ]
  },
  {
   "cell_type": "code",
   "execution_count": null,
   "id": "aefd167d",
   "metadata": {},
   "outputs": [],
   "source": []
  }
 ],
 "metadata": {
  "kernelspec": {
   "display_name": "Python 3",
   "language": "python",
   "name": "python3"
  },
  "language_info": {
   "codemirror_mode": {
    "name": "ipython",
    "version": 3
   },
   "file_extension": ".py",
   "mimetype": "text/x-python",
   "name": "python",
   "nbconvert_exporter": "python",
   "pygments_lexer": "ipython3",
   "version": "3.6.9"
  }
 },
 "nbformat": 4,
 "nbformat_minor": 5
}
